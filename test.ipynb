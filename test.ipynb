{
 "cells": [
  {
   "cell_type": "code",
   "execution_count": 1,
   "metadata": {},
   "outputs": [
    {
     "name": "stdout",
     "output_type": "stream",
     "text": [
      "Warning: you are attempting to run MeshDataModule without the required dependency open3d.\n"
     ]
    }
   ],
   "source": [
    "from xno.models import ZNO"
   ]
  },
  {
   "cell_type": "code",
   "execution_count": 2,
   "metadata": {},
   "outputs": [],
   "source": [
    "import torch\n",
    "import matplotlib.pyplot as plt\n",
    "import sys\n",
    "from neuralop.models import FNO\n",
    "from neuralop.data.datasets import load_darcy_flow_small\n",
    "from neuralop.utils import count_model_params\n",
    "from neuralop.training import AdamW\n",
    "# from neuralop.training.incremental import IncrementalFNOTrainer\n",
    "from xno.training.incremental import IncrementalFNOTrainer\n",
    "from neuralop.data.transforms.data_processors import IncrementalDataProcessor\n",
    "from neuralop import LpLoss, H1Loss"
   ]
  },
  {
   "cell_type": "code",
   "execution_count": 3,
   "metadata": {},
   "outputs": [
    {
     "name": "stdout",
     "output_type": "stream",
     "text": [
      "Loading test db for resolution 16 with 100 samples \n",
      "Loading test db for resolution 32 with 50 samples \n"
     ]
    },
    {
     "name": "stderr",
     "output_type": "stream",
     "text": [
      "/Users/sina/Documents/GitHub_Local/XNO/neuraloperator/neuralop/data/datasets/pt_dataset.py:93: FutureWarning: You are using `torch.load` with `weights_only=False` (the current default value), which uses the default pickle module implicitly. It is possible to construct malicious pickle data which will execute arbitrary code during unpickling (See https://github.com/pytorch/pytorch/blob/main/SECURITY.md#untrusted-models for more details). In a future release, the default value for `weights_only` will be flipped to `True`. This limits the functions that could be executed during unpickling. Arbitrary objects will no longer be allowed to be loaded via this mode unless they are explicitly allowlisted by the user via `torch.serialization.add_safe_globals`. We recommend you start setting `weights_only=True` for any use case where you don't have full control of the loaded file. Please open an issue on GitHub for any issues related to this experimental feature.\n",
      "  data = torch.load(\n",
      "/Users/sina/Documents/GitHub_Local/XNO/neuraloperator/neuralop/data/datasets/pt_dataset.py:172: FutureWarning: You are using `torch.load` with `weights_only=False` (the current default value), which uses the default pickle module implicitly. It is possible to construct malicious pickle data which will execute arbitrary code during unpickling (See https://github.com/pytorch/pytorch/blob/main/SECURITY.md#untrusted-models for more details). In a future release, the default value for `weights_only` will be flipped to `True`. This limits the functions that could be executed during unpickling. Arbitrary objects will no longer be allowed to be loaded via this mode unless they are explicitly allowlisted by the user via `torch.serialization.add_safe_globals`. We recommend you start setting `weights_only=True` for any use case where you don't have full control of the loaded file. Please open an issue on GitHub for any issues related to this experimental feature.\n",
      "  data = torch.load(Path(root_dir).joinpath(f\"{dataset_name}_test_{res}.pt\").as_posix())\n"
     ]
    }
   ],
   "source": [
    "train_loader, test_loaders, output_encoder = load_darcy_flow_small(\n",
    "    n_train=100,\n",
    "    batch_size=16,\n",
    "    test_resolutions=[16, 32],\n",
    "    n_tests=[100, 50],\n",
    "    test_batch_sizes=[32, 32],\n",
    ")"
   ]
  },
  {
   "cell_type": "code",
   "execution_count": 4,
   "metadata": {},
   "outputs": [],
   "source": [
    "device = torch.device(\"cuda\" if torch.cuda.is_available() else \"cpu\")\n"
   ]
  },
  {
   "cell_type": "code",
   "execution_count": 5,
   "metadata": {},
   "outputs": [],
   "source": [
    "from xno.models import ZNO"
   ]
  },
  {
   "cell_type": "code",
   "execution_count": 6,
   "metadata": {},
   "outputs": [],
   "source": [
    "incremental = True\n",
    "if incremental:\n",
    "    starting_modes = (2, 2)\n",
    "else:\n",
    "    starting_modes = (16, 16)"
   ]
  },
  {
   "cell_type": "code",
   "execution_count": 7,
   "metadata": {},
   "outputs": [],
   "source": [
    "model = ZNO(\n",
    "    max_n_modes=(16, 16),\n",
    "    n_modes=(2, 2),\n",
    "    hidden_channels=32,\n",
    "    in_channels=1,\n",
    "    out_channels=1,\n",
    ")\n",
    "model = model.to(device)\n",
    "n_params = count_model_params(model)"
   ]
  },
  {
   "cell_type": "code",
   "execution_count": 8,
   "metadata": {},
   "outputs": [],
   "source": [
    "optimizer = AdamW(model.parameters(), lr=8e-3, weight_decay=1e-4)\n",
    "scheduler = torch.optim.lr_scheduler.CosineAnnealingLR(optimizer, T_max=30)\n"
   ]
  },
  {
   "cell_type": "code",
   "execution_count": 9,
   "metadata": {},
   "outputs": [
    {
     "name": "stdout",
     "output_type": "stream",
     "text": [
      "Original Incre Res: change index to 0\n",
      "Original Incre Res: change sub to 2\n",
      "Original Incre Res: change res to 8\n"
     ]
    }
   ],
   "source": [
    "data_transform = IncrementalDataProcessor(\n",
    "    in_normalizer=None,\n",
    "    out_normalizer=None,\n",
    "    device=device,\n",
    "    subsampling_rates=[2, 1],\n",
    "    dataset_resolution=16,\n",
    "    dataset_indices=[2, 3],\n",
    "    epoch_gap=10,\n",
    "    verbose=True,\n",
    ")\n",
    "\n",
    "data_transform = data_transform.to(device)"
   ]
  },
  {
   "cell_type": "code",
   "execution_count": 10,
   "metadata": {},
   "outputs": [
    {
     "name": "stdout",
     "output_type": "stream",
     "text": [
      "\n",
      "### N PARAMS ###\n",
      " 2118721\n",
      "\n",
      "### OPTIMIZER ###\n",
      " AdamW (\n",
      "Parameter Group 0\n",
      "    betas: (0.9, 0.999)\n",
      "    correct_bias: True\n",
      "    eps: 1e-06\n",
      "    initial_lr: 0.008\n",
      "    lr: 0.008\n",
      "    weight_decay: 0.0001\n",
      ")\n",
      "\n",
      "### SCHEDULER ###\n",
      " <torch.optim.lr_scheduler.CosineAnnealingLR object at 0x30a883a10>\n",
      "\n",
      "### LOSSES ###\n",
      "\n",
      "### INCREMENTAL RESOLUTION + GRADIENT EXPLAINED ###\n",
      "\n",
      " * Train: <neuralop.losses.data_losses.H1Loss object at 0x30a89dc90>\n",
      "\n",
      " * Test: {'h1': <neuralop.losses.data_losses.H1Loss object at 0x30a89dc90>, 'l2': <neuralop.losses.data_losses.LpLoss object at 0x30a89de10>}\n"
     ]
    }
   ],
   "source": [
    "l2loss = LpLoss(d=2, p=2)\n",
    "h1loss = H1Loss(d=2)\n",
    "train_loss = h1loss\n",
    "eval_losses = {\"h1\": h1loss, \"l2\": l2loss}\n",
    "print(\"\\n### N PARAMS ###\\n\", n_params)\n",
    "print(\"\\n### OPTIMIZER ###\\n\", optimizer)\n",
    "print(\"\\n### SCHEDULER ###\\n\", scheduler)\n",
    "print(\"\\n### LOSSES ###\")\n",
    "print(\"\\n### INCREMENTAL RESOLUTION + GRADIENT EXPLAINED ###\")\n",
    "print(f\"\\n * Train: {train_loss}\")\n",
    "print(f\"\\n * Test: {eval_losses}\")\n",
    "sys.stdout.flush()"
   ]
  },
  {
   "cell_type": "code",
   "execution_count": 11,
   "metadata": {},
   "outputs": [],
   "source": [
    "# Finally pass all of these to the Trainer\n",
    "trainer = IncrementalFNOTrainer(\n",
    "    model=model,\n",
    "    n_epochs=20,\n",
    "    data_processor=data_transform,\n",
    "    device=device,\n",
    "    verbose=True,\n",
    "    incremental_loss_gap=False,\n",
    "    incremental_grad=True,\n",
    "    incremental_grad_eps=0.9999,\n",
    "    incremental_loss_eps = 0.001,\n",
    "    incremental_buffer=5,\n",
    "    incremental_max_iter=1,\n",
    "    incremental_grad_max_iter=2,\n",
    ")"
   ]
  },
  {
   "cell_type": "code",
   "execution_count": 12,
   "metadata": {},
   "outputs": [
    {
     "name": "stdout",
     "output_type": "stream",
     "text": [
      "Training on 100 samples\n",
      "Testing on [50, 50] samples         on resolutions [16, 32].\n",
      "Raw outputs of shape torch.Size([16, 1, 8, 8])\n",
      "[0] time=0.37, avg_loss=0.8313, train_err=11.8752\n",
      "Eval: 16_h1=0.7576, 16_l2=0.6052, 32_h1=0.8197, 32_l2=0.5918\n",
      "[1] time=0.30, avg_loss=0.7243, train_err=10.3476\n",
      "Eval: 16_h1=0.8481, 16_l2=0.6477, 32_h1=0.9783, 32_l2=0.6300\n",
      "[2] time=0.27, avg_loss=0.7535, train_err=10.7638\n",
      "Eval: 16_h1=0.7579, 16_l2=0.5975, 32_h1=0.7752, 32_l2=0.5880\n",
      "[3] time=0.34, avg_loss=0.7255, train_err=10.3649\n",
      "Eval: 16_h1=0.7619, 16_l2=0.5699, 32_h1=0.8792, 32_l2=0.5582\n",
      "[4] time=0.33, avg_loss=0.7101, train_err=10.1442\n",
      "Eval: 16_h1=0.7126, 16_l2=0.5546, 32_h1=0.7489, 32_l2=0.5425\n",
      "[5] time=0.33, avg_loss=0.6989, train_err=9.9841\n",
      "Eval: 16_h1=0.7136, 16_l2=0.5506, 32_h1=0.7681, 32_l2=0.5395\n",
      "[6] time=0.33, avg_loss=0.6924, train_err=9.8920\n",
      "Eval: 16_h1=0.6865, 16_l2=0.5329, 32_h1=0.7314, 32_l2=0.5208\n",
      "[7] time=0.30, avg_loss=0.6718, train_err=9.5975\n",
      "Eval: 16_h1=0.6901, 16_l2=0.5332, 32_h1=0.7347, 32_l2=0.5218\n",
      "[8] time=0.31, avg_loss=0.6677, train_err=9.5393\n",
      "Eval: 16_h1=0.6820, 16_l2=0.5292, 32_h1=0.7201, 32_l2=0.5166\n",
      "[9] time=0.32, avg_loss=0.6599, train_err=9.4270\n",
      "Eval: 16_h1=0.6736, 16_l2=0.5262, 32_h1=0.7077, 32_l2=0.5148\n",
      "Incre Res Update: change index to 1\n",
      "Incre Res Update: change sub to 1\n",
      "Incre Res Update: change res to 16\n",
      "[10] time=0.78, avg_loss=0.6459, train_err=9.2276\n",
      "Eval: 16_h1=0.6633, 16_l2=0.5206, 32_h1=0.6884, 32_l2=0.5059\n",
      "[11] time=0.87, avg_loss=0.6289, train_err=8.9843\n",
      "Eval: 16_h1=0.6757, 16_l2=0.5296, 32_h1=0.6928, 32_l2=0.5114\n",
      "[12] time=0.75, avg_loss=0.6273, train_err=8.9617\n",
      "Eval: 16_h1=0.6583, 16_l2=0.5231, 32_h1=0.6699, 32_l2=0.5058\n",
      "[13] time=0.88, avg_loss=0.6127, train_err=8.7528\n",
      "Eval: 16_h1=0.6483, 16_l2=0.5117, 32_h1=0.6621, 32_l2=0.4973\n",
      "[14] time=0.75, avg_loss=0.5978, train_err=8.5401\n",
      "Eval: 16_h1=0.6487, 16_l2=0.5109, 32_h1=0.6637, 32_l2=0.4960\n",
      "[15] time=0.89, avg_loss=0.5821, train_err=8.3153\n",
      "Eval: 16_h1=0.6512, 16_l2=0.5106, 32_h1=0.6668, 32_l2=0.4943\n",
      "[16] time=0.86, avg_loss=0.5709, train_err=8.1557\n",
      "Eval: 16_h1=0.6524, 16_l2=0.5100, 32_h1=0.6724, 32_l2=0.4940\n",
      "[17] time=1.17, avg_loss=0.5635, train_err=8.0494\n",
      "Eval: 16_h1=0.6497, 16_l2=0.5015, 32_h1=0.6780, 32_l2=0.4874\n",
      "[18] time=0.97, avg_loss=0.5490, train_err=7.8434\n",
      "Eval: 16_h1=0.6557, 16_l2=0.5075, 32_h1=0.6859, 32_l2=0.4937\n",
      "[19] time=1.08, avg_loss=0.5320, train_err=7.5996\n",
      "Eval: 16_h1=0.6523, 16_l2=0.5058, 32_h1=0.6784, 32_l2=0.4915\n"
     ]
    },
    {
     "data": {
      "text/plain": [
       "{'train_err': 7.599588768822806,\n",
       " 'avg_loss': 0.5319712138175965,\n",
       " 'avg_lasso_loss': None,\n",
       " 'epoch_train_time': 1.0819875409943052,\n",
       " '16_h1': tensor(0.6523),\n",
       " '16_l2': tensor(0.5058),\n",
       " '32_h1': tensor(0.6784),\n",
       " '32_l2': tensor(0.4915)}"
      ]
     },
     "execution_count": 12,
     "metadata": {},
     "output_type": "execute_result"
    }
   ],
   "source": [
    "trainer.train(\n",
    "    train_loader,\n",
    "    test_loaders,\n",
    "    optimizer,\n",
    "    scheduler,\n",
    "    regularizer=False,\n",
    "    training_loss=train_loss,\n",
    "    eval_losses=eval_losses,\n",
    ")"
   ]
  },
  {
   "cell_type": "code",
   "execution_count": null,
   "metadata": {},
   "outputs": [],
   "source": []
  }
 ],
 "metadata": {
  "kernelspec": {
   "display_name": "Python 3",
   "language": "python",
   "name": "python3"
  },
  "language_info": {
   "codemirror_mode": {
    "name": "ipython",
    "version": 3
   },
   "file_extension": ".py",
   "mimetype": "text/x-python",
   "name": "python",
   "nbconvert_exporter": "python",
   "pygments_lexer": "ipython3",
   "version": "3.11.0"
  }
 },
 "nbformat": 4,
 "nbformat_minor": 2
}
