{
 "cells": [
  {
   "cell_type": "code",
   "execution_count": 14,
   "metadata": {},
   "outputs": [],
   "source": [
    "from utils import MatReader\n",
    "from torch.utils.data import DataLoader, TensorDataset, Dataset, default_collate\n",
    "from xno.data.datasets import load_darcy_flow_small\n",
    "from xno.data.datasets import load_navier_stokes_pt\n",
    "from xno.data.transforms.normalizers import UnitGaussianNormalizer\n",
    "import torch"
   ]
  },
  {
   "cell_type": "code",
   "execution_count": 34,
   "metadata": {},
   "outputs": [],
   "source": [
    "def _shape_printer(msg, x, y, xtes, ytes):\n",
    "    print(f\"\\n=== {msg} ===\\n\")\n",
    "    print(f\"X_Train Shape: {x.shape}\")\n",
    "    print(f\"Y_Train Shape: {y.shape}\")\n",
    "    print(f\"X_Test Shape: {xtes.shape}\")\n",
    "    print(f\"Y_Test Shape: {ytes.shape}\")\n"
   ]
  },
  {
   "cell_type": "code",
   "execution_count": 36,
   "metadata": {},
   "outputs": [],
   "source": [
    "data_path = \"./data/ionize.mat\"\n",
    "ntrain=450\n",
    "ntest=50"
   ]
  },
  {
   "cell_type": "code",
   "execution_count": 41,
   "metadata": {},
   "outputs": [
    {
     "name": "stdout",
     "output_type": "stream",
     "text": [
      "\n",
      "=== Reshape data structure ===\n",
      "\n",
      "X_Train Shape: torch.Size([450, 1, 111, 46])\n",
      "Y_Train Shape: torch.Size([450, 5, 111, 46])\n",
      "X_Test Shape: torch.Size([50, 1, 111, 46])\n",
      "Y_Test Shape: torch.Size([50, 5, 111, 46])\n"
     ]
    }
   ],
   "source": [
    "dataloader = MatReader(data_path)\n",
    "ioniz_all = dataloader.read_field('ioniz_all')\n",
    "NX_all = dataloader.read_field('NX_all')\n",
    "Nclus_all = dataloader.read_field('Nclus_all')\n",
    "Nneg_all = dataloader.read_field('Nneg_all')\n",
    "Npos_all = dataloader.read_field('Npos_all')\n",
    "Elec_den_GPI_all = dataloader.read_field('Elec_den_GPI_all')\n",
    "\n",
    "x = ioniz_all.unsqueeze(1)\n",
    "x = x.permute(3, 1, 0, 2)\n",
    "y = torch.stack([NX_all, Nclus_all, Nneg_all, Npos_all, Elec_den_GPI_all], dim=0)\n",
    "y = y.permute(3, 0, 1, 2)\n",
    "\n",
    "x_train = x[:ntrain]\n",
    "y_train = y[:ntrain]\n",
    "x_test = x[ntrain:ntrain+ntest]\n",
    "y_test = y[ntrain:ntrain+ntest]    \n",
    "\n",
    "_shape_printer('Reshape data structure', x_train, y_train, x_test, y_test)"
   ]
  },
  {
   "cell_type": "code",
   "execution_count": 39,
   "metadata": {},
   "outputs": [
    {
     "data": {
      "text/plain": [
       "torch.Size([111, 1, 46, 500])"
      ]
     },
     "execution_count": 39,
     "metadata": {},
     "output_type": "execute_result"
    }
   ],
   "source": [
    "x.shape"
   ]
  },
  {
   "cell_type": "code",
   "execution_count": 40,
   "metadata": {},
   "outputs": [
    {
     "data": {
      "text/plain": [
       "torch.Size([111, 46, 500])"
      ]
     },
     "execution_count": 40,
     "metadata": {},
     "output_type": "execute_result"
    }
   ],
   "source": [
    "ioniz_all.shape"
   ]
  },
  {
   "cell_type": "code",
   "execution_count": null,
   "metadata": {},
   "outputs": [],
   "source": []
  }
 ],
 "metadata": {
  "kernelspec": {
   "display_name": ".venv",
   "language": "python",
   "name": "python3"
  },
  "language_info": {
   "codemirror_mode": {
    "name": "ipython",
    "version": 3
   },
   "file_extension": ".py",
   "mimetype": "text/x-python",
   "name": "python",
   "nbconvert_exporter": "python",
   "pygments_lexer": "ipython3",
   "version": "3.12.4"
  }
 },
 "nbformat": 4,
 "nbformat_minor": 2
}
