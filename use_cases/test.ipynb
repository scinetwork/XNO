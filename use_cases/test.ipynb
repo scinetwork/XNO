{
 "cells": [
  {
   "cell_type": "code",
   "execution_count": 1,
   "metadata": {},
   "outputs": [],
   "source": [
    "from xno.data.datasets.hdf5_dataset import H5pyDataset\n",
    "from utils import MatReader\n",
    "from torch.utils.data import DataLoader, TensorDataset, Dataset, default_collate"
   ]
  },
  {
   "cell_type": "code",
   "execution_count": 2,
   "metadata": {},
   "outputs": [],
   "source": [
    "from data_loader import _1d_burger, _2d_ionize\n"
   ]
  },
  {
   "cell_type": "code",
   "execution_count": 2,
   "metadata": {},
   "outputs": [],
   "source": [
    "import torch\n",
    "import matplotlib.pyplot as plt\n",
    "import sys\n",
    "from xno.models import XNO\n",
    "from xno.data.datasets import load_darcy_flow_small\n",
    "from xno.utils import count_model_params\n",
    "from xno.training import AdamW\n",
    "from xno.training.incremental import IncrementalFNOTrainer\n",
    "from xno.data.transforms.data_processors import IncrementalDataProcessor\n",
    "from xno import LpLoss, H1Loss"
   ]
  },
  {
   "cell_type": "code",
   "execution_count": 3,
   "metadata": {},
   "outputs": [],
   "source": [
    "data_path=\"/Users/sina/Documents/GitHub_Local/XNO/use_cases/data/1D_Lorenz_rho10.mat\""
   ]
  },
  {
   "cell_type": "code",
   "execution_count": 4,
   "metadata": {},
   "outputs": [],
   "source": [
    "s = 2048\n",
    "batch_size_train = 16\n",
    "batch_size_vali = 16\n",
    "batch_size_test = 16"
   ]
  },
  {
   "cell_type": "code",
   "execution_count": 5,
   "metadata": {},
   "outputs": [],
   "source": [
    "reader = MatReader(data_path)\n",
    "x_train = reader.read_field('f_train')\n",
    "y_train = reader.read_field('u_train')\n",
    "grid_x_train = reader.read_field('x_train')\n",
    "\n",
    "x_vali = reader.read_field('f_vali')\n",
    "y_vali = reader.read_field('u_vali')\n",
    "grid_x_vali = reader.read_field('x_vali')\n",
    "\n",
    "x_test = reader.read_field('f_test')\n",
    "y_test = reader.read_field('u_test')\n",
    "grid_x_test = reader.read_field('x_test') \n",
    "\n",
    "x_train = x_train.reshape(x_train.shape[0],s,1)\n",
    "x_vali = x_vali.reshape(x_vali.shape[0],s,1)\n",
    "x_test = x_test.reshape(x_test.shape[0],s,1)\n"
   ]
  },
  {
   "cell_type": "code",
   "execution_count": 6,
   "metadata": {},
   "outputs": [],
   "source": [
    "# Define the custom Dataset\n",
    "class DictDataset(Dataset):\n",
    "    def __init__(self, x, y):\n",
    "        self.x = x\n",
    "        self.y = y\n",
    "\n",
    "    def __len__(self):\n",
    "        return len(self.x)\n",
    "\n",
    "    def __getitem__(self, idx):\n",
    "        return {'x': self.x[idx], 'y': self.y[idx]}"
   ]
  },
  {
   "cell_type": "code",
   "execution_count": 7,
   "metadata": {},
   "outputs": [
    {
     "data": {
      "text/plain": [
       "(torch.Size([200, 2048, 1]), torch.Size([200, 2048]))"
      ]
     },
     "execution_count": 7,
     "metadata": {},
     "output_type": "execute_result"
    }
   ],
   "source": [
    "x_train.shape, y_train.shape"
   ]
  },
  {
   "cell_type": "code",
   "execution_count": 8,
   "metadata": {},
   "outputs": [
    {
     "data": {
      "text/plain": [
       "(torch.Size([50, 2048, 1]), torch.Size([50, 2048]))"
      ]
     },
     "execution_count": 8,
     "metadata": {},
     "output_type": "execute_result"
    }
   ],
   "source": [
    "x_vali.shape, y_vali.shape"
   ]
  },
  {
   "cell_type": "code",
   "execution_count": 9,
   "metadata": {},
   "outputs": [],
   "source": [
    "x_train = x_train.permute(0, 2, 1)\n",
    "y_train = y_train.unsqueeze(1)\n",
    "x_vali = x_vali.permute(0, 2, 1)\n",
    "y_vali = y_vali.unsqueeze(1)"
   ]
  },
  {
   "cell_type": "code",
   "execution_count": 10,
   "metadata": {},
   "outputs": [],
   "source": [
    "train_loader = DictDataset(x_train, y_train)\n",
    "test_loader = DictDataset(x_vali, y_vali)"
   ]
  },
  {
   "cell_type": "code",
   "execution_count": 11,
   "metadata": {},
   "outputs": [],
   "source": [
    "train_loader = DataLoader(train_loader, batch_size=batch_size_train, shuffle=True)\n",
    "test_loader = DataLoader(test_loader, batch_size=batch_size_vali, shuffle=True)\n",
    "test_loader = {\n",
    "    2048: test_loader\n",
    "}"
   ]
  },
  {
   "cell_type": "code",
   "execution_count": 12,
   "metadata": {},
   "outputs": [
    {
     "data": {
      "text/plain": [
       "(torch.utils.data.dataloader.DataLoader,\n",
       " dict,\n",
       " torch.Size([16, 1, 2048]),\n",
       " torch.Size([16, 1, 2048]))"
      ]
     },
     "execution_count": 12,
     "metadata": {},
     "output_type": "execute_result"
    }
   ],
   "source": [
    "batch = next(iter(train_loader))\n",
    "type(train_loader), type(batch), batch['x'].shape, batch['y'].shape"
   ]
  },
  {
   "cell_type": "code",
   "execution_count": 13,
   "metadata": {},
   "outputs": [
    {
     "data": {
      "text/plain": [
       "(dict, dict, torch.Size([16, 1, 2048]), torch.Size([16, 1, 2048]))"
      ]
     },
     "execution_count": 13,
     "metadata": {},
     "output_type": "execute_result"
    }
   ],
   "source": [
    "batch = next(iter(test_loader[2048]))\n",
    "type(test_loader), type(batch), batch['x'].shape, batch['y'].shape"
   ]
  },
  {
   "cell_type": "code",
   "execution_count": 14,
   "metadata": {},
   "outputs": [
    {
     "data": {
      "text/plain": [
       "4"
      ]
     },
     "execution_count": 14,
     "metadata": {},
     "output_type": "execute_result"
    }
   ],
   "source": [
    "len(test_loader[2048])"
   ]
  },
  {
   "cell_type": "code",
   "execution_count": 15,
   "metadata": {},
   "outputs": [],
   "source": [
    "device = torch.device(\"cuda\" if torch.cuda.is_available() else \"cpu\")"
   ]
  },
  {
   "cell_type": "code",
   "execution_count": 16,
   "metadata": {},
   "outputs": [
    {
     "name": "stdout",
     "output_type": "stream",
     "text": [
      "======== Selected Kernel Description =======\n",
      "Dimentionality: 1D\n",
      "Transformation: [ Hilbert Neural Operator (HNO) Kernel ]\n",
      ">>> Overview:\n",
      "The HNO applies Hilbert Transform, emphasizing the phase-shifted features of the input\n",
      "signal for enhanced data representation.\n",
      "\n",
      ">>> Key Features:\n",
      "- Focuses on phase information, useful in signal processing.\n",
      "- Suitable for scenarios requiring advanced spectral analysis.\n",
      "\n",
      ">>> Reference:\n",
      "This is an experimental implementation. Currently no formal reference.\n",
      "============================================\n",
      "\n",
      "================== Config ==================\n",
      ">>> Normaliztion: None\n",
      ">>> Activation Function: \n",
      "============================================\n",
      "\n"
     ]
    }
   ],
   "source": [
    "model = XNO(\n",
    "    max_n_modes=(16, ),\n",
    "    n_modes=(2, ),\n",
    "    hidden_channels=32,\n",
    "    in_channels=1,\n",
    "    out_channels=1,\n",
    "    transformation=\"hno\",\n",
    "    # transformation_kwargs={\"wavelet_level\": 2, \"wavelet_size\": [2048]}\n",
    ")\n",
    "model = model.to(device)\n",
    "n_params = count_model_params(model)"
   ]
  },
  {
   "cell_type": "code",
   "execution_count": 17,
   "metadata": {},
   "outputs": [],
   "source": [
    "optimizer = AdamW(model.parameters(), lr=8e-3, weight_decay=1e-4)\n",
    "scheduler = torch.optim.lr_scheduler.CosineAnnealingLR(optimizer, T_max=30)"
   ]
  },
  {
   "cell_type": "code",
   "execution_count": 18,
   "metadata": {},
   "outputs": [
    {
     "name": "stdout",
     "output_type": "stream",
     "text": [
      "Original Incre Res: change index to 0\n",
      "Original Incre Res: change sub to 2\n",
      "Original Incre Res: change res to 1024\n"
     ]
    }
   ],
   "source": [
    "data_transform = IncrementalDataProcessor(\n",
    "    in_normalizer=None,\n",
    "    out_normalizer=None,\n",
    "    device=device,\n",
    "    subsampling_rates=[2, 1],\n",
    "    dataset_resolution=2048,\n",
    "    dataset_indices=[2],\n",
    "    epoch_gap=10,\n",
    "    verbose=True,\n",
    ")\n",
    "\n",
    "data_transform = data_transform.to(device)"
   ]
  },
  {
   "cell_type": "code",
   "execution_count": 19,
   "metadata": {},
   "outputs": [
    {
     "name": "stdout",
     "output_type": "stream",
     "text": [
      "\n",
      "### N PARAMS ###\n",
      " 144161\n",
      "\n",
      "### OPTIMIZER ###\n",
      " AdamW (\n",
      "Parameter Group 0\n",
      "    betas: (0.9, 0.999)\n",
      "    correct_bias: True\n",
      "    eps: 1e-06\n",
      "    initial_lr: 0.008\n",
      "    lr: 0.008\n",
      "    weight_decay: 0.0001\n",
      ")\n",
      "\n",
      "### SCHEDULER ###\n",
      " <torch.optim.lr_scheduler.CosineAnnealingLR object at 0x17fa32350>\n",
      "\n",
      "### LOSSES ###\n",
      "\n",
      "### INCREMENTAL RESOLUTION + GRADIENT EXPLAINED ###\n",
      "\n",
      " * Train: <xno.losses.data_losses.H1Loss object at 0x17fa32830>\n",
      "\n",
      " * Test: {'h1': <xno.losses.data_losses.H1Loss object at 0x17fa32830>, 'l2': <xno.losses.data_losses.LpLoss object at 0x308a89d80>}\n"
     ]
    }
   ],
   "source": [
    "l2loss = LpLoss(d=2, p=2)\n",
    "h1loss = H1Loss(d=2)\n",
    "train_loss = h1loss\n",
    "eval_losses = {\"h1\": h1loss, \"l2\": l2loss}\n",
    "print(\"\\n### N PARAMS ###\\n\", n_params)\n",
    "print(\"\\n### OPTIMIZER ###\\n\", optimizer)\n",
    "print(\"\\n### SCHEDULER ###\\n\", scheduler)\n",
    "print(\"\\n### LOSSES ###\")\n",
    "print(\"\\n### INCREMENTAL RESOLUTION + GRADIENT EXPLAINED ###\")\n",
    "print(f\"\\n * Train: {train_loss}\")\n",
    "print(f\"\\n * Test: {eval_losses}\")\n",
    "sys.stdout.flush()"
   ]
  },
  {
   "cell_type": "code",
   "execution_count": 20,
   "metadata": {},
   "outputs": [],
   "source": [
    "# Finally pass all of these to the Trainer\n",
    "trainer = IncrementalFNOTrainer(\n",
    "    model=model,\n",
    "    n_epochs=10,\n",
    "    data_processor=data_transform,\n",
    "    device=device,\n",
    "    verbose=True,\n",
    "    incremental_loss_gap=False,\n",
    "    incremental_grad=True,\n",
    "    incremental_grad_eps=0.9999,\n",
    "    incremental_loss_eps = 0.001,\n",
    "    incremental_buffer=5,\n",
    "    incremental_max_iter=1,\n",
    "    incremental_grad_max_iter=2,\n",
    ")"
   ]
  },
  {
   "cell_type": "code",
   "execution_count": 21,
   "metadata": {},
   "outputs": [
    {
     "name": "stdout",
     "output_type": "stream",
     "text": [
      "Training on 200 samples\n",
      "Testing on [50] samples         on resolutions [2048].\n",
      "Raw outputs of shape torch.Size([16, 1, 1024])\n",
      "[0] time=4.57, avg_loss=0.9567, train_err=14.7188\n",
      "True\n",
      "Eval: 2048_h1=0.9682, 2048_l2=0.9679\n",
      "[Rank 0]: saved training state to save/\n",
      "[1] time=4.59, avg_loss=0.8856, train_err=13.6241\n",
      "True\n",
      "Eval: 2048_h1=0.7736, 2048_l2=0.8846\n",
      "[Rank 0]: saved training state to save/\n",
      "[2] time=4.97, avg_loss=0.8423, train_err=12.9584\n",
      "True\n",
      "Eval: 2048_h1=0.7754, 2048_l2=0.8605\n",
      "[Rank 0]: saved training state to save/\n",
      "[3] time=4.80, avg_loss=0.8157, train_err=12.5485\n",
      "True\n",
      "Eval: 2048_h1=0.7636, 2048_l2=0.8665\n",
      "[Rank 0]: saved training state to save/\n",
      "[4] time=4.59, avg_loss=0.7951, train_err=12.2325\n",
      "True\n",
      "Eval: 2048_h1=0.7335, 2048_l2=0.8465\n",
      "[Rank 0]: saved training state to save/\n",
      "[5] time=4.63, avg_loss=0.7857, train_err=12.0871\n",
      "True\n",
      "Eval: 2048_h1=0.7415, 2048_l2=0.8596\n",
      "[Rank 0]: saved training state to save/\n",
      "[6] time=4.65, avg_loss=0.7750, train_err=11.9233\n",
      "True\n",
      "Eval: 2048_h1=0.7390, 2048_l2=0.9098\n",
      "[Rank 0]: saved training state to save/\n",
      "[7] time=4.86, avg_loss=0.7683, train_err=11.8198\n",
      "True\n",
      "Eval: 2048_h1=0.7530, 2048_l2=0.9088\n",
      "[Rank 0]: saved training state to save/\n",
      "[8] time=4.57, avg_loss=0.7550, train_err=11.6152\n",
      "True\n",
      "Eval: 2048_h1=0.7275, 2048_l2=1.0096\n",
      "[Rank 0]: saved training state to save/\n",
      "[9] time=4.69, avg_loss=0.7555, train_err=11.6231\n",
      "True\n",
      "Eval: 2048_h1=0.7585, 2048_l2=1.0215\n",
      "[Rank 0]: saved training state to save/\n"
     ]
    },
    {
     "data": {
      "text/plain": [
       "{'train_err': 11.62308615904588,\n",
       " 'avg_loss': 0.7555006003379822,\n",
       " 'avg_lasso_loss': None,\n",
       " 'epoch_train_time': 4.689389250001113,\n",
       " '2048_h1': tensor(0.7585),\n",
       " '2048_l2': tensor(1.0215)}"
      ]
     },
     "execution_count": 21,
     "metadata": {},
     "output_type": "execute_result"
    }
   ],
   "source": [
    "trainer.train(\n",
    "    train_loader,\n",
    "    test_loader,\n",
    "    optimizer,\n",
    "    scheduler,\n",
    "    regularizer=False,\n",
    "    training_loss=train_loss,\n",
    "    eval_losses=eval_losses,\n",
    "    save_every=1,\n",
    "    save_testing=True,\n",
    "    save_dir=\"save/\"\n",
    ")"
   ]
  },
  {
   "cell_type": "code",
   "execution_count": 26,
   "metadata": {},
   "outputs": [
    {
     "name": "stderr",
     "output_type": "stream",
     "text": [
      "/var/folders/94/p22yrw514tv4kplhpq9hmknr0000gn/T/ipykernel_61588/3952325940.py:2: FutureWarning: You are using `torch.load` with `weights_only=False` (the current default value), which uses the default pickle module implicitly. It is possible to construct malicious pickle data which will execute arbitrary code during unpickling (See https://github.com/pytorch/pytorch/blob/main/SECURITY.md#untrusted-models for more details). In a future release, the default value for `weights_only` will be flipped to `True`. This limits the functions that could be executed during unpickling. Arbitrary objects will no longer be allowed to be loaded via this mode unless they are explicitly allowlisted by the user via `torch.serialization.add_safe_globals`. We recommend you start setting `weights_only=True` for any use case where you don't have full control of the loaded file. Please open an issue on GitHub for any issues related to this experimental feature.\n",
      "  data = torch.load(file_path)\n"
     ]
    }
   ],
   "source": [
    "file_path = \"save/test_results.pt\"  # or Path(...)\n",
    "data = torch.load(file_path)"
   ]
  },
  {
   "cell_type": "code",
   "execution_count": 31,
   "metadata": {},
   "outputs": [
    {
     "data": {
      "text/plain": [
       "(torch.Tensor, torch.Size([50, 1, 2048]))"
      ]
     },
     "execution_count": 31,
     "metadata": {},
     "output_type": "execute_result"
    }
   ],
   "source": [
    "type(data['pred']), data['pred'].shape"
   ]
  },
  {
   "cell_type": "code",
   "execution_count": 29,
   "metadata": {},
   "outputs": [
    {
     "name": "stdout",
     "output_type": "stream",
     "text": [
      "Converted save/test_results.pt to test_results.mat\n"
     ]
    },
    {
     "name": "stderr",
     "output_type": "stream",
     "text": [
      "/var/folders/94/p22yrw514tv4kplhpq9hmknr0000gn/T/ipykernel_61588/3978367509.py:6: FutureWarning: You are using `torch.load` with `weights_only=False` (the current default value), which uses the default pickle module implicitly. It is possible to construct malicious pickle data which will execute arbitrary code during unpickling (See https://github.com/pytorch/pytorch/blob/main/SECURITY.md#untrusted-models for more details). In a future release, the default value for `weights_only` will be flipped to `True`. This limits the functions that could be executed during unpickling. Arbitrary objects will no longer be allowed to be loaded via this mode unless they are explicitly allowlisted by the user via `torch.serialization.add_safe_globals`. We recommend you start setting `weights_only=True` for any use case where you don't have full control of the loaded file. Please open an issue on GitHub for any issues related to this experimental feature.\n",
      "  data = torch.load(pt_file_path)\n"
     ]
    }
   ],
   "source": [
    "import torch\n",
    "from scipy.io import savemat\n",
    "\n",
    "# Load the .pt file\n",
    "pt_file_path = \"save/test_results.pt\"\n",
    "data = torch.load(pt_file_path)\n",
    "\n",
    "# Convert tensors to NumPy arrays (required for .mat format)\n",
    "x_array = data[\"x\"].cpu().numpy()\n",
    "y_array = data[\"y\"].cpu().numpy()\n",
    "pred_array = data[\"pred\"].cpu().numpy()\n",
    "\n",
    "# Save to .mat\n",
    "mat_file_path = \"test_results.mat\"\n",
    "savemat(mat_file_path, {\"x\": x_array, \"y\": y_array, \"pred\": pred_array})\n",
    "\n",
    "print(f\"Converted {pt_file_path} to {mat_file_path}\")\n"
   ]
  },
  {
   "cell_type": "code",
   "execution_count": null,
   "metadata": {},
   "outputs": [],
   "source": []
  }
 ],
 "metadata": {
  "kernelspec": {
   "display_name": ".venv",
   "language": "python",
   "name": "python3"
  },
  "language_info": {
   "codemirror_mode": {
    "name": "ipython",
    "version": 3
   },
   "file_extension": ".py",
   "mimetype": "text/x-python",
   "name": "python",
   "nbconvert_exporter": "python",
   "pygments_lexer": "ipython3",
   "version": "3.12.4"
  }
 },
 "nbformat": 4,
 "nbformat_minor": 2
}
