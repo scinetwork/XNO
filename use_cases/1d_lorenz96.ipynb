{
 "cells": [
  {
   "cell_type": "code",
   "execution_count": 13,
   "metadata": {},
   "outputs": [],
   "source": [
    "from xno.data.datasets.hdf5_dataset import H5pyDataset\n",
    "from utils import MatReader\n",
    "from torch.utils.data import DataLoader, TensorDataset, Dataset, default_collate\n",
    "import numpy as np"
   ]
  },
  {
   "cell_type": "code",
   "execution_count": 14,
   "metadata": {},
   "outputs": [],
   "source": [
    "import torch\n",
    "import matplotlib.pyplot as plt\n",
    "import sys\n",
    "from xno.models import XNO\n",
    "from xno.utils import count_model_params\n",
    "from xno.training import AdamW\n",
    "from xno.training.incremental import IncrementalXNOTrainer\n",
    "from xno.data.transforms.data_processors import IncrementalDataProcessor\n",
    "from xno import LpLoss, H1Loss"
   ]
  },
  {
   "cell_type": "code",
   "execution_count": 32,
   "metadata": {},
   "outputs": [],
   "source": [
    "data_path=\"data/1d_lorenz96.mat\""
   ]
  },
  {
   "cell_type": "code",
   "execution_count": 33,
   "metadata": {},
   "outputs": [],
   "source": [
    "# 1) Load dataset\n",
    "reader = MatReader(data_path)\n",
    "X = reader.read_field(\"X\")  # shape [T, D], e.g. [2001, 40]\n",
    "\n",
    "step_mode = \"s\"\n",
    "# 2) Next-step: (X[t], X[t+1]) pairs\n",
    "x_ns = X[:-1]    # all but last\n",
    "y_ns = X[1:]     # all but first"
   ]
  },
  {
   "cell_type": "code",
   "execution_count": 34,
   "metadata": {},
   "outputs": [],
   "source": [
    "# 3) Multi-step example: window=5 in, horizon=10 out\n",
    "window, horizon = 5, 10\n",
    "X_in, X_out = [], []\n",
    "for i in range(len(X) - window - horizon + 1):\n",
    "    X_in.append(X[i : i + window])\n",
    "    X_out.append(X[i + window : i + window + horizon])\n",
    "X_in = np.array(X_in)   # shape [N, window, D]\n",
    "X_out = np.array(X_out) # shape [N, horizon, D]"
   ]
  },
  {
   "cell_type": "code",
   "execution_count": 35,
   "metadata": {},
   "outputs": [
    {
     "name": "stdout",
     "output_type": "stream",
     "text": [
      "Step mode is: Single\n",
      "Sshapes: torch.Size([1600, 40]) torch.Size([1600, 40]) torch.Size([400, 40]) torch.Size([400, 40])\n"
     ]
    }
   ],
   "source": [
    "# 4) Simple train/test split (80/20) for both tasks\n",
    "if step_mode == 's':\n",
    "    print('Step mode is: Single')\n",
    "    split = 1600\n",
    "    x_train, x_test = x_ns[:split], x_ns[split:]\n",
    "    y_train, y_test = y_ns[:split], y_ns[split:]\n",
    "else:\n",
    "    print('Step mode is: Multiple')\n",
    "    split = int(0.8 * len(X_in))\n",
    "    x_train, x_test = X_in[:split], X_in[split:]\n",
    "    y_train, y_test = X_out[:split], X_out[split:]\n",
    "\n",
    "# 5) Print shapes to verify\n",
    "print(\"Sshapes:\", x_train.shape, y_train.shape, x_test.shape, y_test.shape)\n"
   ]
  },
  {
   "cell_type": "code",
   "execution_count": 36,
   "metadata": {},
   "outputs": [],
   "source": [
    "# Define the custom Dataset\n",
    "class DictDataset(Dataset):\n",
    "    def __init__(self, x, y):\n",
    "        self.x = x\n",
    "        self.y = y\n",
    "\n",
    "    def __len__(self):\n",
    "        return len(self.x)\n",
    "\n",
    "    def __getitem__(self, idx):\n",
    "        return {'x': self.x[idx], 'y': self.y[idx]}"
   ]
  },
  {
   "cell_type": "code",
   "execution_count": 37,
   "metadata": {},
   "outputs": [
    {
     "data": {
      "text/plain": [
       "(torch.Size([1600, 40]), torch.Size([1600, 40]))"
      ]
     },
     "execution_count": 37,
     "metadata": {},
     "output_type": "execute_result"
    }
   ],
   "source": [
    "x_train.shape, y_train.shape"
   ]
  },
  {
   "cell_type": "code",
   "execution_count": 38,
   "metadata": {},
   "outputs": [
    {
     "data": {
      "text/plain": [
       "(torch.Size([400, 40]), torch.Size([400, 40]))"
      ]
     },
     "execution_count": 38,
     "metadata": {},
     "output_type": "execute_result"
    }
   ],
   "source": [
    "x_test.shape, y_test.shape"
   ]
  },
  {
   "cell_type": "code",
   "execution_count": 40,
   "metadata": {},
   "outputs": [],
   "source": [
    "x_train = x_train.unsqueeze(1)\n",
    "# x_train = x_train.permute(0, 2, 1)\n",
    "y_train = y_train.unsqueeze(1)\n",
    "x_test = x_test.unsqueeze(1)\n",
    "# x_test = x_test.permute(0, 2, 1)\n",
    "y_test = y_test.unsqueeze(1)"
   ]
  },
  {
   "cell_type": "code",
   "execution_count": 48,
   "metadata": {},
   "outputs": [
    {
     "data": {
      "text/plain": [
       "torch.Size([400, 1, 40])"
      ]
     },
     "execution_count": 48,
     "metadata": {},
     "output_type": "execute_result"
    }
   ],
   "source": [
    "y_test.shape"
   ]
  },
  {
   "cell_type": "code",
   "execution_count": 49,
   "metadata": {},
   "outputs": [],
   "source": [
    "train_loader = DictDataset(x_train, y_train)\n",
    "test_loader = DictDataset(y_test, y_test)"
   ]
  },
  {
   "cell_type": "code",
   "execution_count": 51,
   "metadata": {},
   "outputs": [],
   "source": [
    "train_loader = DataLoader(train_loader, batch_size=20, shuffle=True)\n",
    "test_loader = DataLoader(test_loader, batch_size=20, shuffle=True)\n",
    "test_loader = {\n",
    "    40: test_loader\n",
    "}"
   ]
  },
  {
   "cell_type": "code",
   "execution_count": 52,
   "metadata": {},
   "outputs": [
    {
     "data": {
      "text/plain": [
       "(torch.utils.data.dataloader.DataLoader,\n",
       " dict,\n",
       " torch.Size([20, 1, 40]),\n",
       " torch.Size([20, 1, 40]))"
      ]
     },
     "execution_count": 52,
     "metadata": {},
     "output_type": "execute_result"
    }
   ],
   "source": [
    "batch = next(iter(train_loader))\n",
    "type(train_loader), type(batch), batch['x'].shape, batch['y'].shape"
   ]
  },
  {
   "cell_type": "code",
   "execution_count": 53,
   "metadata": {},
   "outputs": [
    {
     "data": {
      "text/plain": [
       "(dict, dict, torch.Size([20, 1, 40]), torch.Size([20, 1, 40]))"
      ]
     },
     "execution_count": 53,
     "metadata": {},
     "output_type": "execute_result"
    }
   ],
   "source": [
    "batch = next(iter(test_loader[40]))\n",
    "type(test_loader), type(batch), batch['x'].shape, batch['y'].shape"
   ]
  },
  {
   "cell_type": "code",
   "execution_count": 14,
   "metadata": {},
   "outputs": [],
   "source": [
    "device = torch.device(\"cuda\" if torch.cuda.is_available() else \"cpu\")"
   ]
  },
  {
   "cell_type": "code",
   "execution_count": null,
   "metadata": {},
   "outputs": [],
   "source": [
    "model = XNO(\n",
    "    max_n_modes=(16, ),\n",
    "    n_modes=(2, ),\n",
    "    hidden_channels=32,\n",
    "    in_channels=1,\n",
    "    out_channels=1,\n",
    "    transformation=\"hno\",\n",
    "    # transformation_kwargs={\"wavelet_level\": 2, \"wavelet_size\": [2048]}\n",
    ")\n",
    "model = model.to(device)\n",
    "n_params = count_model_params(model)"
   ]
  },
  {
   "cell_type": "code",
   "execution_count": 16,
   "metadata": {},
   "outputs": [],
   "source": [
    "optimizer = AdamW(model.parameters(), lr=8e-3, weight_decay=1e-4)\n",
    "scheduler = torch.optim.lr_scheduler.CosineAnnealingLR(optimizer, T_max=30)"
   ]
  },
  {
   "cell_type": "code",
   "execution_count": null,
   "metadata": {},
   "outputs": [],
   "source": [
    "data_transform = IncrementalDataProcessor(\n",
    "    in_normalizer=None,\n",
    "    out_normalizer=None,\n",
    "    device=device,\n",
    "    subsampling_rates=[2, 1],\n",
    "    dataset_resolution=2048,\n",
    "    dataset_indices=[2],\n",
    "    epoch_gap=10,\n",
    "    verbose=True,\n",
    ")\n",
    "\n",
    "data_transform = data_transform.to(device)"
   ]
  },
  {
   "cell_type": "code",
   "execution_count": null,
   "metadata": {},
   "outputs": [],
   "source": [
    "l2loss = LpLoss(d=2, p=2)\n",
    "h1loss = H1Loss(d=2)\n",
    "train_loss = h1loss\n",
    "eval_losses = {\"h1\": h1loss, \"l2\": l2loss}\n",
    "print(\"\\n### N PARAMS ###\\n\", n_params)\n",
    "print(\"\\n### OPTIMIZER ###\\n\", optimizer)\n",
    "print(\"\\n### SCHEDULER ###\\n\", scheduler)\n",
    "print(\"\\n### LOSSES ###\")\n",
    "print(\"\\n### INCREMENTAL RESOLUTION + GRADIENT EXPLAINED ###\")\n",
    "print(f\"\\n * Train: {train_loss}\")\n",
    "print(f\"\\n * Test: {eval_losses}\")\n",
    "sys.stdout.flush()"
   ]
  },
  {
   "cell_type": "code",
   "execution_count": 19,
   "metadata": {},
   "outputs": [],
   "source": [
    "# Finally pass all of these to the Trainer\n",
    "trainer = IncrementalFNOTrainer(\n",
    "    model=model,\n",
    "    n_epochs=10,\n",
    "    data_processor=data_transform,\n",
    "    device=device,\n",
    "    verbose=True,\n",
    "    incremental_loss_gap=False,\n",
    "    incremental_grad=True,\n",
    "    incremental_grad_eps=0.9999,\n",
    "    incremental_loss_eps = 0.001,\n",
    "    incremental_buffer=5,\n",
    "    incremental_max_iter=1,\n",
    "    incremental_grad_max_iter=2,\n",
    ")"
   ]
  },
  {
   "cell_type": "code",
   "execution_count": null,
   "metadata": {},
   "outputs": [],
   "source": [
    "trainer.train(\n",
    "    train_loader,\n",
    "    test_loader,\n",
    "    optimizer,\n",
    "    scheduler,\n",
    "    regularizer=False,\n",
    "    training_loss=train_loss,\n",
    "    eval_losses=eval_losses,\n",
    ")"
   ]
  },
  {
   "cell_type": "code",
   "execution_count": null,
   "metadata": {},
   "outputs": [],
   "source": [
    "# FNO\n",
    "{'train_err': 10.971330422621508,\n",
    " 'avg_loss': 0.713136477470398,\n",
    " 'avg_lasso_loss': None,\n",
    " 'epoch_train_time': 4.013646583998707,\n",
    " '2048_h1': tensor(0.7238),\n",
    " '2048_l2': tensor(0.9066)}"
   ]
  },
  {
   "cell_type": "code",
   "execution_count": null,
   "metadata": {},
   "outputs": [],
   "source": [
    "# HNO\n",
    "{'train_err': 11.142363548278809,\n",
    " 'avg_loss': 0.7242536306381225,\n",
    " 'avg_lasso_loss': None,\n",
    " 'epoch_train_time': 5.140133208000407,\n",
    " '2048_h1': tensor(0.7229),\n",
    " '2048_l2': tensor(0.7630)}"
   ]
  },
  {
   "cell_type": "code",
   "execution_count": null,
   "metadata": {},
   "outputs": [],
   "source": [
    "# WNO\n",
    "{'train_err': 6.489716823284443,\n",
    " 'avg_loss': 0.42183159351348876,\n",
    " 'avg_lasso_loss': None,\n",
    " 'epoch_train_time': 5.868622500000129,\n",
    " '2048_h1': tensor(0.7528),\n",
    " '2048_l2': tensor(0.7417)}"
   ]
  },
  {
   "cell_type": "code",
   "execution_count": null,
   "metadata": {},
   "outputs": [],
   "source": [
    "# LNO\n",
    "{'train_err': 11.74565157523522,\n",
    " 'avg_loss': 0.7634673523902893,\n",
    " 'avg_lasso_loss': None,\n",
    " 'epoch_train_time': 9.407964875001198,\n",
    " '2048_h1': tensor(0.7606),\n",
    " '2048_l2': tensor(0.7453)}"
   ]
  }
 ],
 "metadata": {
  "kernelspec": {
   "display_name": ".venv",
   "language": "python",
   "name": "python3"
  },
  "language_info": {
   "codemirror_mode": {
    "name": "ipython",
    "version": 3
   },
   "file_extension": ".py",
   "mimetype": "text/x-python",
   "name": "python",
   "nbconvert_exporter": "python",
   "pygments_lexer": "ipython3",
   "version": "3.12.4"
  }
 },
 "nbformat": 4,
 "nbformat_minor": 2
}
