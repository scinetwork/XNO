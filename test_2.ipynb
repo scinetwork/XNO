{
 "cells": [
  {
   "cell_type": "code",
   "execution_count": 1,
   "metadata": {},
   "outputs": [
    {
     "name": "stdout",
     "output_type": "stream",
     "text": [
      "Warning: you are attempting to run MeshDataModule without the required dependency open3d.\n"
     ]
    }
   ],
   "source": [
    "import torch\n",
    "import matplotlib.pyplot as plt\n",
    "import sys\n",
    "from neuralop.models import FNO\n",
    "from neuralop.data.datasets import load_darcy_flow_small\n",
    "from neuralop.utils import count_model_params\n",
    "from neuralop.training import AdamW\n",
    "from neuralop.training.incremental import IncrementalFNOTrainer\n",
    "from neuralop.data.transforms.data_processors import IncrementalDataProcessor\n",
    "from neuralop import LpLoss, H1Loss"
   ]
  },
  {
   "cell_type": "code",
   "execution_count": 2,
   "metadata": {},
   "outputs": [
    {
     "name": "stdout",
     "output_type": "stream",
     "text": [
      "Loading test db for resolution 16 with 100 samples \n",
      "Loading test db for resolution 32 with 50 samples \n"
     ]
    },
    {
     "name": "stderr",
     "output_type": "stream",
     "text": [
      "/Users/sina/Documents/GitHub_Local/XNO/neuraloperator/neuralop/data/datasets/pt_dataset.py:93: FutureWarning: You are using `torch.load` with `weights_only=False` (the current default value), which uses the default pickle module implicitly. It is possible to construct malicious pickle data which will execute arbitrary code during unpickling (See https://github.com/pytorch/pytorch/blob/main/SECURITY.md#untrusted-models for more details). In a future release, the default value for `weights_only` will be flipped to `True`. This limits the functions that could be executed during unpickling. Arbitrary objects will no longer be allowed to be loaded via this mode unless they are explicitly allowlisted by the user via `torch.serialization.add_safe_globals`. We recommend you start setting `weights_only=True` for any use case where you don't have full control of the loaded file. Please open an issue on GitHub for any issues related to this experimental feature.\n",
      "  data = torch.load(\n",
      "/Users/sina/Documents/GitHub_Local/XNO/neuraloperator/neuralop/data/datasets/pt_dataset.py:172: FutureWarning: You are using `torch.load` with `weights_only=False` (the current default value), which uses the default pickle module implicitly. It is possible to construct malicious pickle data which will execute arbitrary code during unpickling (See https://github.com/pytorch/pytorch/blob/main/SECURITY.md#untrusted-models for more details). In a future release, the default value for `weights_only` will be flipped to `True`. This limits the functions that could be executed during unpickling. Arbitrary objects will no longer be allowed to be loaded via this mode unless they are explicitly allowlisted by the user via `torch.serialization.add_safe_globals`. We recommend you start setting `weights_only=True` for any use case where you don't have full control of the loaded file. Please open an issue on GitHub for any issues related to this experimental feature.\n",
      "  data = torch.load(Path(root_dir).joinpath(f\"{dataset_name}_test_{res}.pt\").as_posix())\n"
     ]
    }
   ],
   "source": [
    "train_loader, test_loaders, output_encoder = load_darcy_flow_small(\n",
    "    n_train=100,\n",
    "    batch_size=16,\n",
    "    test_resolutions=[16, 32],\n",
    "    n_tests=[100, 50],\n",
    "    test_batch_sizes=[32, 32],\n",
    ")"
   ]
  },
  {
   "cell_type": "code",
   "execution_count": 3,
   "metadata": {},
   "outputs": [],
   "source": [
    "device = torch.device(\"cuda\" if torch.cuda.is_available() else \"cpu\")\n"
   ]
  },
  {
   "cell_type": "code",
   "execution_count": 4,
   "metadata": {},
   "outputs": [],
   "source": [
    "incremental = True\n",
    "if incremental:\n",
    "    starting_modes = (2, 2)\n",
    "else:\n",
    "    starting_modes = (16, 16)"
   ]
  },
  {
   "cell_type": "code",
   "execution_count": 5,
   "metadata": {},
   "outputs": [],
   "source": [
    "model = FNO(\n",
    "    max_n_modes=(16, 16),\n",
    "    n_modes=starting_modes,\n",
    "    hidden_channels=32,\n",
    "    in_channels=1,\n",
    "    out_channels=1,\n",
    ")\n",
    "model = model.to(device)\n",
    "n_params = count_model_params(model)"
   ]
  },
  {
   "cell_type": "code",
   "execution_count": 6,
   "metadata": {},
   "outputs": [
    {
     "name": "stdout",
     "output_type": "stream",
     "text": [
      "Original Incre Res: change index to 0\n",
      "Original Incre Res: change sub to 2\n",
      "Original Incre Res: change res to 8\n"
     ]
    }
   ],
   "source": [
    "optimizer = AdamW(model.parameters(), lr=8e-3, weight_decay=1e-4)\n",
    "scheduler = torch.optim.lr_scheduler.CosineAnnealingLR(optimizer, T_max=30)\n",
    "\n",
    "\n",
    "# If one wants to use Incremental Resolution, one should use the IncrementalDataProcessor - When passed to the trainer, the trainer will automatically update the resolution\n",
    "# Incremental_resolution : bool, default is False\n",
    "#    if True, increase the resolution of the input incrementally\n",
    "#    uses the incremental_res_gap parameter\n",
    "#    uses the subsampling_rates parameter - a list of resolutions to use\n",
    "#    uses the dataset_indices parameter - a list of indices of the dataset to slice to regularize the input resolution\n",
    "#    uses the dataset_resolution parameter - the resolution of the input\n",
    "#    uses the epoch_gap parameter - the number of epochs to wait before increasing the resolution\n",
    "#    uses the verbose parameter - if True, print the resolution and the number of modes\n",
    "data_transform = IncrementalDataProcessor(\n",
    "    in_normalizer=None,\n",
    "    out_normalizer=None,\n",
    "    device=device,\n",
    "    subsampling_rates=[2, 1],\n",
    "    dataset_resolution=16,\n",
    "    dataset_indices=[2, 3],\n",
    "    epoch_gap=10,\n",
    "    verbose=True,\n",
    ")\n",
    "\n",
    "data_transform = data_transform.to(device)"
   ]
  },
  {
   "cell_type": "code",
   "execution_count": 7,
   "metadata": {},
   "outputs": [
    {
     "name": "stdout",
     "output_type": "stream",
     "text": [
      "\n",
      "### N PARAMS ###\n",
      " 2110305\n",
      "\n",
      "### OPTIMIZER ###\n",
      " AdamW (\n",
      "Parameter Group 0\n",
      "    betas: (0.9, 0.999)\n",
      "    correct_bias: True\n",
      "    eps: 1e-06\n",
      "    initial_lr: 0.008\n",
      "    lr: 0.008\n",
      "    weight_decay: 0.0001\n",
      ")\n",
      "\n",
      "### SCHEDULER ###\n",
      " <torch.optim.lr_scheduler.CosineAnnealingLR object at 0x31d0f8310>\n",
      "\n",
      "### LOSSES ###\n",
      "\n",
      "### INCREMENTAL RESOLUTION + GRADIENT EXPLAINED ###\n",
      "\n",
      " * Train: <neuralop.losses.data_losses.H1Loss object at 0x31cf32dd0>\n",
      "\n",
      " * Test: {'h1': <neuralop.losses.data_losses.H1Loss object at 0x31cf32dd0>, 'l2': <neuralop.losses.data_losses.LpLoss object at 0x30f69f0d0>}\n"
     ]
    }
   ],
   "source": [
    "l2loss = LpLoss(d=2, p=2)\n",
    "h1loss = H1Loss(d=2)\n",
    "train_loss = h1loss\n",
    "eval_losses = {\"h1\": h1loss, \"l2\": l2loss}\n",
    "print(\"\\n### N PARAMS ###\\n\", n_params)\n",
    "print(\"\\n### OPTIMIZER ###\\n\", optimizer)\n",
    "print(\"\\n### SCHEDULER ###\\n\", scheduler)\n",
    "print(\"\\n### LOSSES ###\")\n",
    "print(\"\\n### INCREMENTAL RESOLUTION + GRADIENT EXPLAINED ###\")\n",
    "print(f\"\\n * Train: {train_loss}\")\n",
    "print(f\"\\n * Test: {eval_losses}\")\n",
    "sys.stdout.flush()"
   ]
  },
  {
   "cell_type": "code",
   "execution_count": 8,
   "metadata": {},
   "outputs": [],
   "source": [
    "# Finally pass all of these to the Trainer\n",
    "trainer = IncrementalFNOTrainer(\n",
    "    model=model,\n",
    "    n_epochs=20,\n",
    "    data_processor=data_transform,\n",
    "    device=device,\n",
    "    verbose=True,\n",
    "    incremental_loss_gap=False,\n",
    "    incremental_grad=True,\n",
    "    incremental_grad_eps=0.9999,\n",
    "    incremental_loss_eps = 0.001,\n",
    "    incremental_buffer=5,\n",
    "    incremental_max_iter=1,\n",
    "    incremental_grad_max_iter=2,\n",
    ")"
   ]
  },
  {
   "cell_type": "code",
   "execution_count": 9,
   "metadata": {},
   "outputs": [
    {
     "name": "stdout",
     "output_type": "stream",
     "text": [
      "Training on 100 samples\n",
      "Testing on [50, 50] samples         on resolutions [16, 32].\n",
      "Raw outputs of shape torch.Size([16, 1, 8, 8])\n",
      "[0] time=0.47, avg_loss=0.8300, train_err=11.8578\n",
      "Eval: 16_h1=0.7720, 16_l2=0.6329, 32_h1=0.8126, 32_l2=0.6275\n",
      "[1] time=0.40, avg_loss=0.6727, train_err=9.6098\n",
      "Eval: 16_h1=0.6651, 16_l2=0.5211, 32_h1=0.7453, 32_l2=0.5340\n",
      "[2] time=0.44, avg_loss=0.5609, train_err=8.0133\n",
      "Eval: 16_h1=0.7302, 16_l2=0.5144, 32_h1=0.9443, 32_l2=0.5411\n",
      "[3] time=0.23, avg_loss=0.5267, train_err=7.5238\n",
      "Eval: 16_h1=0.6545, 16_l2=0.4933, 32_h1=0.8203, 32_l2=0.5120\n",
      "[4] time=0.24, avg_loss=0.5000, train_err=7.1433\n",
      "Eval: 16_h1=0.5975, 16_l2=0.4248, 32_h1=0.7602, 32_l2=0.4563\n",
      "[5] time=0.23, avg_loss=0.4443, train_err=6.3471\n",
      "Eval: 16_h1=0.5425, 16_l2=0.3776, 32_h1=0.6995, 32_l2=0.4065\n",
      "[6] time=0.28, avg_loss=0.3906, train_err=5.5802\n",
      "Eval: 16_h1=0.5395, 16_l2=0.3694, 32_h1=0.7495, 32_l2=0.4146\n",
      "[7] time=0.22, avg_loss=0.3400, train_err=4.8565\n",
      "Eval: 16_h1=0.4781, 16_l2=0.3258, 32_h1=0.6661, 32_l2=0.3664\n",
      "[8] time=0.23, avg_loss=0.3132, train_err=4.4742\n",
      "Eval: 16_h1=0.4714, 16_l2=0.3165, 32_h1=0.6716, 32_l2=0.3600\n",
      "[9] time=0.23, avg_loss=0.2986, train_err=4.2653\n",
      "Eval: 16_h1=0.4692, 16_l2=0.3114, 32_h1=0.6919, 32_l2=0.3563\n",
      "Incre Res Update: change index to 1\n",
      "Incre Res Update: change sub to 1\n",
      "Incre Res Update: change res to 16\n",
      "[10] time=0.62, avg_loss=0.4038, train_err=5.7689\n",
      "Eval: 16_h1=0.4106, 16_l2=0.3166, 32_h1=0.5089, 32_l2=0.3181\n",
      "[11] time=0.59, avg_loss=0.3574, train_err=5.1059\n",
      "Eval: 16_h1=0.3767, 16_l2=0.2752, 32_h1=0.4911, 32_l2=0.2892\n",
      "[12] time=0.70, avg_loss=0.3326, train_err=4.7517\n",
      "Eval: 16_h1=0.3778, 16_l2=0.2876, 32_h1=0.4847, 32_l2=0.2941\n",
      "[13] time=0.68, avg_loss=0.3136, train_err=4.4799\n",
      "Eval: 16_h1=0.3936, 16_l2=0.2934, 32_h1=0.5010, 32_l2=0.3026\n",
      "[14] time=0.75, avg_loss=0.3272, train_err=4.6741\n",
      "Eval: 16_h1=0.3227, 16_l2=0.2398, 32_h1=0.4248, 32_l2=0.2478\n",
      "[15] time=0.78, avg_loss=0.2902, train_err=4.1454\n",
      "Eval: 16_h1=0.3239, 16_l2=0.2427, 32_h1=0.4184, 32_l2=0.2609\n",
      "[16] time=0.94, avg_loss=0.2728, train_err=3.8973\n",
      "Eval: 16_h1=0.2971, 16_l2=0.2220, 32_h1=0.4053, 32_l2=0.2379\n",
      "[17] time=0.66, avg_loss=0.2477, train_err=3.5392\n",
      "Eval: 16_h1=0.2860, 16_l2=0.2113, 32_h1=0.3942, 32_l2=0.2245\n",
      "[18] time=0.74, avg_loss=0.2396, train_err=3.4223\n",
      "Eval: 16_h1=0.2760, 16_l2=0.2080, 32_h1=0.3771, 32_l2=0.2232\n",
      "[19] time=0.65, avg_loss=0.2264, train_err=3.2342\n",
      "Eval: 16_h1=0.2705, 16_l2=0.2048, 32_h1=0.3730, 32_l2=0.2223\n"
     ]
    },
    {
     "data": {
      "text/plain": [
       "{'train_err': 3.23424232006073,\n",
       " 'avg_loss': 0.2263969624042511,\n",
       " 'avg_lasso_loss': None,\n",
       " 'epoch_train_time': 0.6524578329990618,\n",
       " '16_h1': tensor(0.2705),\n",
       " '16_l2': tensor(0.2048),\n",
       " '32_h1': tensor(0.3730),\n",
       " '32_l2': tensor(0.2223)}"
      ]
     },
     "execution_count": 9,
     "metadata": {},
     "output_type": "execute_result"
    }
   ],
   "source": [
    "trainer.train(\n",
    "    train_loader,\n",
    "    test_loaders,\n",
    "    optimizer,\n",
    "    scheduler,\n",
    "    regularizer=False,\n",
    "    training_loss=train_loss,\n",
    "    eval_losses=eval_losses,\n",
    ")"
   ]
  },
  {
   "cell_type": "code",
   "execution_count": null,
   "metadata": {},
   "outputs": [],
   "source": []
  }
 ],
 "metadata": {
  "kernelspec": {
   "display_name": "Python 3",
   "language": "python",
   "name": "python3"
  },
  "language_info": {
   "codemirror_mode": {
    "name": "ipython",
    "version": 3
   },
   "file_extension": ".py",
   "mimetype": "text/x-python",
   "name": "python",
   "nbconvert_exporter": "python",
   "pygments_lexer": "ipython3",
   "version": "3.11.0"
  }
 },
 "nbformat": 4,
 "nbformat_minor": 2
}
