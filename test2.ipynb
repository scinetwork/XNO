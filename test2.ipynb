{
 "cells": [
  {
   "cell_type": "code",
   "execution_count": 2,
   "metadata": {},
   "outputs": [
    {
     "name": "stdout",
     "output_type": "stream",
     "text": [
      "Warning: you are attempting to run MeshDataModule without the required dependency open3d.\n"
     ]
    }
   ],
   "source": [
    "import torch\n",
    "import matplotlib.pyplot as plt\n",
    "import sys\n",
    "from neuralop.models import FNO\n",
    "from neuralop.data.datasets import load_darcy_flow_small\n",
    "from neuralop.utils import count_model_params\n",
    "from neuralop.training import AdamW\n",
    "from neuralop.training.incremental import IncrementalFNOTrainer\n",
    "from neuralop.data.transforms.data_processors import IncrementalDataProcessor\n",
    "from neuralop import LpLoss, H1Loss"
   ]
  },
  {
   "cell_type": "code",
   "execution_count": 3,
   "metadata": {},
   "outputs": [
    {
     "name": "stdout",
     "output_type": "stream",
     "text": [
      "Loading test db for resolution 16 with 100 samples \n",
      "Loading test db for resolution 32 with 50 samples \n"
     ]
    },
    {
     "name": "stderr",
     "output_type": "stream",
     "text": [
      "/Users/sina/Documents/GitHub_Local/XNO/neuraloperator/neuralop/data/datasets/pt_dataset.py:93: FutureWarning: You are using `torch.load` with `weights_only=False` (the current default value), which uses the default pickle module implicitly. It is possible to construct malicious pickle data which will execute arbitrary code during unpickling (See https://github.com/pytorch/pytorch/blob/main/SECURITY.md#untrusted-models for more details). In a future release, the default value for `weights_only` will be flipped to `True`. This limits the functions that could be executed during unpickling. Arbitrary objects will no longer be allowed to be loaded via this mode unless they are explicitly allowlisted by the user via `torch.serialization.add_safe_globals`. We recommend you start setting `weights_only=True` for any use case where you don't have full control of the loaded file. Please open an issue on GitHub for any issues related to this experimental feature.\n",
      "  data = torch.load(\n",
      "/Users/sina/Documents/GitHub_Local/XNO/neuraloperator/neuralop/data/datasets/pt_dataset.py:172: FutureWarning: You are using `torch.load` with `weights_only=False` (the current default value), which uses the default pickle module implicitly. It is possible to construct malicious pickle data which will execute arbitrary code during unpickling (See https://github.com/pytorch/pytorch/blob/main/SECURITY.md#untrusted-models for more details). In a future release, the default value for `weights_only` will be flipped to `True`. This limits the functions that could be executed during unpickling. Arbitrary objects will no longer be allowed to be loaded via this mode unless they are explicitly allowlisted by the user via `torch.serialization.add_safe_globals`. We recommend you start setting `weights_only=True` for any use case where you don't have full control of the loaded file. Please open an issue on GitHub for any issues related to this experimental feature.\n",
      "  data = torch.load(Path(root_dir).joinpath(f\"{dataset_name}_test_{res}.pt\").as_posix())\n"
     ]
    }
   ],
   "source": [
    "train_loader, test_loaders, output_encoder = load_darcy_flow_small(\n",
    "    n_train=100,\n",
    "    batch_size=16,\n",
    "    test_resolutions=[16, 32],\n",
    "    n_tests=[100, 50],\n",
    "    test_batch_sizes=[32, 32],\n",
    ")"
   ]
  },
  {
   "cell_type": "code",
   "execution_count": 4,
   "metadata": {},
   "outputs": [],
   "source": [
    "device = torch.device(\"cuda\" if torch.cuda.is_available() else \"cpu\")\n"
   ]
  },
  {
   "cell_type": "code",
   "execution_count": 5,
   "metadata": {},
   "outputs": [],
   "source": [
    "incremental = True\n",
    "if incremental:\n",
    "    starting_modes = (2, 2)\n",
    "else:\n",
    "    starting_modes = (16, 16)"
   ]
  },
  {
   "cell_type": "code",
   "execution_count": 6,
   "metadata": {},
   "outputs": [],
   "source": [
    "model = FNO(\n",
    "    max_n_modes=(16, 16),\n",
    "    n_modes=starting_modes,\n",
    "    hidden_channels=32,\n",
    "    in_channels=1,\n",
    "    out_channels=1,\n",
    ")\n",
    "model = model.to(device)\n",
    "n_params = count_model_params(model)"
   ]
  },
  {
   "cell_type": "code",
   "execution_count": 7,
   "metadata": {},
   "outputs": [
    {
     "name": "stdout",
     "output_type": "stream",
     "text": [
      "Original Incre Res: change index to 0\n",
      "Original Incre Res: change sub to 2\n",
      "Original Incre Res: change res to 8\n"
     ]
    }
   ],
   "source": [
    "optimizer = AdamW(model.parameters(), lr=8e-3, weight_decay=1e-4)\n",
    "scheduler = torch.optim.lr_scheduler.CosineAnnealingLR(optimizer, T_max=30)\n",
    "\n",
    "\n",
    "# If one wants to use Incremental Resolution, one should use the IncrementalDataProcessor - When passed to the trainer, the trainer will automatically update the resolution\n",
    "# Incremental_resolution : bool, default is False\n",
    "#    if True, increase the resolution of the input incrementally\n",
    "#    uses the incremental_res_gap parameter\n",
    "#    uses the subsampling_rates parameter - a list of resolutions to use\n",
    "#    uses the dataset_indices parameter - a list of indices of the dataset to slice to regularize the input resolution\n",
    "#    uses the dataset_resolution parameter - the resolution of the input\n",
    "#    uses the epoch_gap parameter - the number of epochs to wait before increasing the resolution\n",
    "#    uses the verbose parameter - if True, print the resolution and the number of modes\n",
    "data_transform = IncrementalDataProcessor(\n",
    "    in_normalizer=None,\n",
    "    out_normalizer=None,\n",
    "    device=device,\n",
    "    subsampling_rates=[2, 1],\n",
    "    dataset_resolution=16,\n",
    "    dataset_indices=[2, 3],\n",
    "    epoch_gap=10,\n",
    "    verbose=True,\n",
    ")\n",
    "\n",
    "data_transform = data_transform.to(device)"
   ]
  },
  {
   "cell_type": "code",
   "execution_count": 8,
   "metadata": {},
   "outputs": [
    {
     "name": "stdout",
     "output_type": "stream",
     "text": [
      "\n",
      "### N PARAMS ###\n",
      " 2110305\n",
      "\n",
      "### OPTIMIZER ###\n",
      " AdamW (\n",
      "Parameter Group 0\n",
      "    betas: (0.9, 0.999)\n",
      "    correct_bias: True\n",
      "    eps: 1e-06\n",
      "    initial_lr: 0.008\n",
      "    lr: 0.008\n",
      "    weight_decay: 0.0001\n",
      ")\n",
      "\n",
      "### SCHEDULER ###\n",
      " <torch.optim.lr_scheduler.CosineAnnealingLR object at 0x17f3db3d0>\n",
      "\n",
      "### LOSSES ###\n",
      "\n",
      "### INCREMENTAL RESOLUTION + GRADIENT EXPLAINED ###\n",
      "\n",
      " * Train: <neuralop.losses.data_losses.H1Loss object at 0x30e756b90>\n",
      "\n",
      " * Test: {'h1': <neuralop.losses.data_losses.H1Loss object at 0x30e756b90>, 'l2': <neuralop.losses.data_losses.LpLoss object at 0x30e756790>}\n"
     ]
    }
   ],
   "source": [
    "l2loss = LpLoss(d=2, p=2)\n",
    "h1loss = H1Loss(d=2)\n",
    "train_loss = h1loss\n",
    "eval_losses = {\"h1\": h1loss, \"l2\": l2loss}\n",
    "print(\"\\n### N PARAMS ###\\n\", n_params)\n",
    "print(\"\\n### OPTIMIZER ###\\n\", optimizer)\n",
    "print(\"\\n### SCHEDULER ###\\n\", scheduler)\n",
    "print(\"\\n### LOSSES ###\")\n",
    "print(\"\\n### INCREMENTAL RESOLUTION + GRADIENT EXPLAINED ###\")\n",
    "print(f\"\\n * Train: {train_loss}\")\n",
    "print(f\"\\n * Test: {eval_losses}\")\n",
    "sys.stdout.flush()\n"
   ]
  },
  {
   "cell_type": "code",
   "execution_count": 9,
   "metadata": {},
   "outputs": [],
   "source": [
    "# Finally pass all of these to the Trainer\n",
    "trainer = IncrementalFNOTrainer(\n",
    "    model=model,\n",
    "    n_epochs=20,\n",
    "    data_processor=data_transform,\n",
    "    device=device,\n",
    "    verbose=True,\n",
    "    incremental_loss_gap=False,\n",
    "    incremental_grad=True,\n",
    "    incremental_grad_eps=0.9999,\n",
    "    incremental_loss_eps = 0.001,\n",
    "    incremental_buffer=5,\n",
    "    incremental_max_iter=1,\n",
    "    incremental_grad_max_iter=2,\n",
    ")"
   ]
  },
  {
   "cell_type": "code",
   "execution_count": 10,
   "metadata": {},
   "outputs": [
    {
     "name": "stdout",
     "output_type": "stream",
     "text": [
      "Training on 100 samples\n",
      "Testing on [50, 50] samples         on resolutions [16, 32].\n",
      "Raw outputs of shape torch.Size([16, 1, 8, 8])\n",
      "[0] time=0.45, avg_loss=0.9192, train_err=13.1311\n",
      "Eval: 16_h1=0.8140, 16_l2=0.6733, 32_h1=0.8277, 32_l2=0.6690\n",
      "[1] time=0.35, avg_loss=0.7500, train_err=10.7146\n",
      "Eval: 16_h1=1.0020, 16_l2=0.7634, 32_h1=1.2701, 32_l2=0.7752\n",
      "[2] time=0.47, avg_loss=0.7208, train_err=10.2966\n",
      "Eval: 16_h1=0.7426, 16_l2=0.6054, 32_h1=0.7700, 32_l2=0.6042\n",
      "[3] time=0.32, avg_loss=0.6472, train_err=9.2463\n",
      "Eval: 16_h1=0.6685, 16_l2=0.5072, 32_h1=0.8018, 32_l2=0.5303\n",
      "[4] time=0.41, avg_loss=0.5322, train_err=7.6031\n",
      "Eval: 16_h1=0.5952, 16_l2=0.4429, 32_h1=0.6902, 32_l2=0.4543\n",
      "[5] time=0.36, avg_loss=0.4750, train_err=6.7855\n",
      "Eval: 16_h1=0.5811, 16_l2=0.4052, 32_h1=0.7404, 32_l2=0.4333\n",
      "[6] time=0.41, avg_loss=0.4208, train_err=6.0111\n",
      "Eval: 16_h1=0.5013, 16_l2=0.3480, 32_h1=0.6514, 32_l2=0.3799\n",
      "[7] time=0.30, avg_loss=0.3558, train_err=5.0835\n",
      "Eval: 16_h1=0.4797, 16_l2=0.3328, 32_h1=0.6421, 32_l2=0.3706\n",
      "[8] time=0.33, avg_loss=0.3232, train_err=4.6177\n",
      "Eval: 16_h1=0.4769, 16_l2=0.3303, 32_h1=0.6709, 32_l2=0.3751\n",
      "[9] time=0.38, avg_loss=0.3067, train_err=4.3810\n",
      "Eval: 16_h1=0.4603, 16_l2=0.3135, 32_h1=0.6651, 32_l2=0.3578\n",
      "Incre Res Update: change index to 1\n",
      "Incre Res Update: change sub to 1\n",
      "Incre Res Update: change res to 16\n",
      "[10] time=0.72, avg_loss=0.3974, train_err=5.6770\n",
      "Eval: 16_h1=0.3960, 16_l2=0.2910, 32_h1=0.4697, 32_l2=0.2809\n",
      "[11] time=0.69, avg_loss=0.3515, train_err=5.0216\n",
      "Eval: 16_h1=0.3613, 16_l2=0.2630, 32_h1=0.4686, 32_l2=0.2791\n",
      "[12] time=0.72, avg_loss=0.3186, train_err=4.5520\n",
      "Eval: 16_h1=0.3218, 16_l2=0.2389, 32_h1=0.4189, 32_l2=0.2488\n",
      "[13] time=0.69, avg_loss=0.2897, train_err=4.1390\n",
      "Eval: 16_h1=0.3145, 16_l2=0.2327, 32_h1=0.4165, 32_l2=0.2461\n",
      "[14] time=0.70, avg_loss=0.2754, train_err=3.9338\n",
      "Eval: 16_h1=0.2930, 16_l2=0.2191, 32_h1=0.3906, 32_l2=0.2308\n",
      "[15] time=0.72, avg_loss=0.2563, train_err=3.6618\n",
      "Eval: 16_h1=0.3001, 16_l2=0.2234, 32_h1=0.4021, 32_l2=0.2358\n",
      "[16] time=0.70, avg_loss=0.2522, train_err=3.6027\n",
      "Eval: 16_h1=0.2922, 16_l2=0.2173, 32_h1=0.4000, 32_l2=0.2274\n",
      "[17] time=0.68, avg_loss=0.2443, train_err=3.4907\n",
      "Eval: 16_h1=0.3385, 16_l2=0.2509, 32_h1=0.4371, 32_l2=0.2552\n",
      "[18] time=0.70, avg_loss=0.2706, train_err=3.8654\n",
      "Eval: 16_h1=0.2967, 16_l2=0.2301, 32_h1=0.4055, 32_l2=0.2380\n",
      "[19] time=0.70, avg_loss=0.2567, train_err=3.6665\n",
      "Eval: 16_h1=0.2886, 16_l2=0.2240, 32_h1=0.3765, 32_l2=0.2401\n"
     ]
    },
    {
     "data": {
      "text/plain": [
       "{'train_err': 3.6664573465074812,\n",
       " 'avg_loss': 0.2566520142555237,\n",
       " 'avg_lasso_loss': None,\n",
       " 'epoch_train_time': 0.7043747089919634,\n",
       " '16_h1': tensor(0.2886),\n",
       " '16_l2': tensor(0.2240),\n",
       " '32_h1': tensor(0.3765),\n",
       " '32_l2': tensor(0.2401)}"
      ]
     },
     "execution_count": 10,
     "metadata": {},
     "output_type": "execute_result"
    }
   ],
   "source": [
    "trainer.train(\n",
    "    train_loader,\n",
    "    test_loaders,\n",
    "    optimizer,\n",
    "    scheduler,\n",
    "    regularizer=False,\n",
    "    training_loss=train_loss,\n",
    "    eval_losses=eval_losses,\n",
    ")"
   ]
  },
  {
   "cell_type": "code",
   "execution_count": null,
   "metadata": {},
   "outputs": [],
   "source": []
  }
 ],
 "metadata": {
  "kernelspec": {
   "display_name": ".venv",
   "language": "python",
   "name": "python3"
  },
  "language_info": {
   "codemirror_mode": {
    "name": "ipython",
    "version": 3
   },
   "file_extension": ".py",
   "mimetype": "text/x-python",
   "name": "python",
   "nbconvert_exporter": "python",
   "pygments_lexer": "ipython3",
   "version": "3.11.0"
  }
 },
 "nbformat": 4,
 "nbformat_minor": 2
}
